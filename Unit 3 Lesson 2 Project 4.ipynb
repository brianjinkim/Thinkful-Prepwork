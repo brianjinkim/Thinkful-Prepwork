{
 "cells": [
  {
   "cell_type": "code",
   "execution_count": null,
   "metadata": {},
   "outputs": [],
   "source": [
    "#Calculate the probability of flipping balanced coin four times and getting:\n",
    "#1. HTTH\n",
    "#1/2 * 1/2 * 1/2 * 1/2 = 1/16 chance of getting HTTH\n",
    "#2. HHHH\n",
    "#1/2 * 1/2 * 1/2 * 1/2 = 1/16 chance of getting HHHH\n",
    "#3. TTHH\n",
    "#1/2 * 1/2 * 1/2 * 1/2 = 1/16 chance of getting TTHH"
   ]
  },
  {
   "cell_type": "code",
   "execution_count": null,
   "metadata": {},
   "outputs": [],
   "source": [
    "#A list of people has 24 women and 21 men. Probability of choosing a man from the list is 21/45.\n",
    "#Probability of not choosing a man is 24/45."
   ]
  },
  {
   "cell_type": "code",
   "execution_count": null,
   "metadata": {},
   "outputs": [],
   "source": [
    "#Probability Bernice will travel by plane next year is 10%. Probability plane will crash is .005%\n",
    "#Probability that Bernice will be in a plane crash next year:\n",
    "#.1 * .005 = 0.0005%"
   ]
  },
  {
   "cell_type": "code",
   "execution_count": null,
   "metadata": {},
   "outputs": [],
   "source": [
    "#If a user is on the website longer and clicking on more links on the website, they have a higher chance of getting a survey."
   ]
  }
 ],
 "metadata": {
  "kernelspec": {
   "display_name": "Python 3",
   "language": "python",
   "name": "python3"
  },
  "language_info": {
   "codemirror_mode": {
    "name": "ipython",
    "version": 3
   },
   "file_extension": ".py",
   "mimetype": "text/x-python",
   "name": "python",
   "nbconvert_exporter": "python",
   "pygments_lexer": "ipython3",
   "version": "3.6.3"
  }
 },
 "nbformat": 4,
 "nbformat_minor": 2
}
