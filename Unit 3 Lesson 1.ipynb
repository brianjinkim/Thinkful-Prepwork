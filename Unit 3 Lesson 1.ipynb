{
 "cells": [
  {
   "cell_type": "code",
   "execution_count": 24,
   "metadata": {},
   "outputs": [],
   "source": [
    "import numpy as np"
   ]
  },
  {
   "cell_type": "code",
   "execution_count": 27,
   "metadata": {},
   "outputs": [],
   "source": [
    "ages = [14, 12, 11, 10, 8, 6, 8]\n",
    "\n",
    "def measures (ages):\n",
    "    print(\"Mean: \", np.mean(ages))\n",
    "    print(\"Median: \", np.median(ages))\n",
    "    print(\"Variance: \", np.var(ages))\n",
    "    print(\"Std Deviation: \", np.std(ages))\n",
    "    print(\"Std of Error: \", np.std(ages ,ddof=1) / np.sqrt(len(ages)))\n",
    "    \n",
    "def mode (ages):\n",
    "    print(\"Mode: \", statistics.mode(ages))"
   ]
  },
  {
   "cell_type": "code",
   "execution_count": 29,
   "metadata": {},
   "outputs": [
    {
     "name": "stdout",
     "output_type": "stream",
     "text": [
      "Mean:  9.85714285714\n",
      "Median:  10.0\n",
      "Variance:  6.40816326531\n",
      "Std Deviation:  2.53143502095\n",
      "Std of Error:  1.03345401972\n",
      "Mode:  8\n"
     ]
    }
   ],
   "source": [
    "#1\n",
    "measures(ages)\n",
    "mode(ages)"
   ]
  },
  {
   "cell_type": "code",
   "execution_count": 15,
   "metadata": {},
   "outputs": [],
   "source": [
    "#2\n",
    "#If I had to pick one estimate of central tendency and one estimate of variance to describe the data,\n",
    "#I would pick the mean and the variance. Both of these estimates will provide us with the average age of the children\n",
    "#when they first started, and also how far apart from the average age those kids were. "
   ]
  },
  {
   "cell_type": "code",
   "execution_count": 31,
   "metadata": {},
   "outputs": [],
   "source": [
    "ages = [14, 12, 11, 10, 8, 7, 8]"
   ]
  },
  {
   "cell_type": "code",
   "execution_count": 32,
   "metadata": {},
   "outputs": [
    {
     "name": "stdout",
     "output_type": "stream",
     "text": [
      "Mean:  10.0\n",
      "Median:  10.0\n",
      "Variance:  5.42857142857\n",
      "Std Deviation:  2.32992949004\n",
      "Std of Error:  0.951189731211\n",
      "Mode:  8\n"
     ]
    }
   ],
   "source": [
    "#3\n",
    "measures(ages)\n",
    "mode(ages)\n",
    "#It appears that the average age went up, the variance, standard deviation, and the standard of error went down,\n",
    "#indicating that there is less of a variance from the central tendency."
   ]
  },
  {
   "cell_type": "code",
   "execution_count": 33,
   "metadata": {},
   "outputs": [],
   "source": [
    "ages = [14, 12, 11, 10, 8, 7, 1]"
   ]
  },
  {
   "cell_type": "code",
   "execution_count": 34,
   "metadata": {},
   "outputs": [
    {
     "name": "stdout",
     "output_type": "stream",
     "text": [
      "Mean:  9.0\n",
      "Median:  10.0\n",
      "Variance:  15.4285714286\n",
      "Std Deviation:  3.92792202425\n",
      "Std of Error:  1.60356745147\n"
     ]
    }
   ],
   "source": [
    "#4\n",
    "measures(ages)\n",
    "#By removing cousin Oliver, there is no more one age that appears more than once in the dataset. Furthermore,\n",
    "#because the new dataset introduces a wider range of age, the variance values are all much higher,\n",
    "#indicating a higher chance of error."
   ]
  },
  {
   "cell_type": "code",
   "execution_count": null,
   "metadata": {},
   "outputs": [],
   "source": [
    "#5\n",
    "#Around ~16%. However SciPhi Phanatic is a very specific magazine geared towards a specific audience.\n",
    "#If we omit them, it is around 20%."
   ]
  }
 ],
 "metadata": {
  "kernelspec": {
   "display_name": "Python 3",
   "language": "python",
   "name": "python3"
  },
  "language_info": {
   "codemirror_mode": {
    "name": "ipython",
    "version": 3
   },
   "file_extension": ".py",
   "mimetype": "text/x-python",
   "name": "python",
   "nbconvert_exporter": "python",
   "pygments_lexer": "ipython3",
   "version": "3.6.3"
  }
 },
 "nbformat": 4,
 "nbformat_minor": 2
}
