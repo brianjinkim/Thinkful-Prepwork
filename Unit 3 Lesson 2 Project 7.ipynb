{
 "cells": [
  {
   "cell_type": "code",
   "execution_count": null,
   "metadata": {},
   "outputs": [],
   "source": [
    "#Pulling data from AirBnB may not answer which neighborhoods are the most popular in Amsterdam,\n",
    "#only which neighborhoods has the most lodgings available through Airbnb. Also, due to the date being so close to \n",
    "#a major holiday, it may affect Airbnb's data from providing which is a popular neighborhood or not."
   ]
  },
  {
   "cell_type": "code",
   "execution_count": null,
   "metadata": {},
   "outputs": [],
   "source": [
    "#The data is skewed because on 9/11/2001 there was a terrorist attack in NYC.\n",
    "#On the next day, there is bound to have been more patients due to the attack in NYC compared to San Francisco\n",
    "#that did not experience a terrorist attack."
   ]
  },
  {
   "cell_type": "code",
   "execution_count": null,
   "metadata": {},
   "outputs": [],
   "source": [
    "#The dataset has been collected from students of a University. It does not cover the entire population\n",
    "#but rather a specific group."
   ]
  }
 ],
 "metadata": {
  "kernelspec": {
   "display_name": "Python 3",
   "language": "python",
   "name": "python3"
  },
  "language_info": {
   "codemirror_mode": {
    "name": "ipython",
    "version": 3
   },
   "file_extension": ".py",
   "mimetype": "text/x-python",
   "name": "python",
   "nbconvert_exporter": "python",
   "pygments_lexer": "ipython3",
   "version": "3.6.3"
  }
 },
 "nbformat": 4,
 "nbformat_minor": 2
}
