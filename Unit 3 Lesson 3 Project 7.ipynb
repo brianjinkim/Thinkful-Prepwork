{
 "cells": [
  {
   "cell_type": "code",
   "execution_count": 39,
   "metadata": {},
   "outputs": [],
   "source": [
    "import pandas as pd\n",
    "import numpy as np\n",
    "from scipy.stats import ttest_ind\n",
    "import matplotlib.pyplot as plt\n",
    "%matplotlib inline"
   ]
  },
  {
   "cell_type": "code",
   "execution_count": 40,
   "metadata": {},
   "outputs": [],
   "source": [
    "#Create two binomial populations with n = 10 and size = 10000\n",
    "#p-value of pop1 = .2 and pop2 = .5\n",
    "#use a sample size of 100 and calculate means and std of samples"
   ]
  },
  {
   "cell_type": "code",
   "execution_count": 41,
   "metadata": {},
   "outputs": [
    {
     "name": "stdout",
     "output_type": "stream",
     "text": [
      "Sample 1 mean: 1.93   std. deviation 1.0977704678119193\n",
      "Sample 2 mean: 4.83   std. deviation 1.5430813329180026\n"
     ]
    },
    {
     "data": {
      "image/png": "[encoded data removed]",
      "text/plain": [
       "<matplotlib.figure.Figure at 0xa03470>"
      ]
     },
     "metadata": {},
     "output_type": "display_data"
    }
   ],
   "source": [
    "pop1 = np.random.binomial(10, .2, 10000)\n",
    "pop2 = np.random.binomial(10, .5, 10000)\n",
    "\n",
    "sample1 = np.random.choice(pop1, 100, replace=True)\n",
    "sample2 = np.random.choice(pop2, 100, replace=True)\n",
    "\n",
    "print(\"Sample 1 mean: {}   std. deviation {}\".format(sample1.mean(), sample1.std()))\n",
    "print(\"Sample 2 mean: {}   std. deviation {}\".format(sample2.mean(), sample2.std()))\n",
    "\n",
    "plt.hist(sample1, alpha=.5, label='sample 1')\n",
    "plt.hist(sample2, alpha=.5, label='sample 2')\n",
    "plt.legend(loc='upper right')\n",
    "plt.show()"
   ]
  },
  {
   "cell_type": "code",
   "execution_count": 42,
   "metadata": {},
   "outputs": [
    {
     "name": "stdout",
     "output_type": "stream",
     "text": [
      "Sample 1 mean: 1.991   std. deviation 1.266143356812332\n",
      "Sample 2 mean: 5.0463   std. deviation 1.5880668468298178\n"
     ]
    },
    {
     "data": {
      "image/png": "[encoded data removed]",
      "text/plain": [
       "<matplotlib.figure.Figure at 0x92da50>"
      ]
     },
     "metadata": {},
     "output_type": "display_data"
    }
   ],
   "source": [
    "#By increasing the size of the samples from 100 to 10000, I predict that the means will stay the same but the std. deviation will grow.\n",
    "sample1 = np.random.choice(pop1, 10000, replace=True)\n",
    "sample2 = np.random.choice(pop2, 10000, replace=True)\n",
    "\n",
    "print(\"Sample 1 mean: {}   std. deviation {}\".format(sample1.mean(), sample1.std()))\n",
    "print(\"Sample 2 mean: {}   std. deviation {}\".format(sample2.mean(), sample2.std()))\n",
    "\n",
    "plt.hist(sample1, alpha=.5, label='sample 1')\n",
    "plt.hist(sample2, alpha=.5, label='sample 2')\n",
    "plt.legend(loc='upper right')\n",
    "plt.show()"
   ]
  },
  {
   "cell_type": "code",
   "execution_count": 43,
   "metadata": {},
   "outputs": [
    {
     "name": "stdout",
     "output_type": "stream",
     "text": [
      "Sample 1 mean: 1.7   std. deviation 1.452583904633395\n",
      "Sample 2 mean: 4.55   std. deviation 1.3955285736952863\n"
     ]
    },
    {
     "data": {
      "image/png": "[encoded data removed]",
      "text/plain": [
       "<matplotlib.figure.Figure at 0xa31310>"
      ]
     },
     "metadata": {},
     "output_type": "display_data"
    },
    {
     "name": "stdout",
     "output_type": "stream",
     "text": [
      "With a higher sample size, the data appears to be normalizing, but with a smaller sample size, the histogram appears to be skewed.\n"
     ]
    }
   ],
   "source": [
    "#Because increasing the size of the samples from 100 to 10000 did not change the mean and std deviation by a large amount, i suspect changing the sample size to 20 will not net a change.\n",
    "#By increasing the size of the samples from 100 to 10000, I predict that the means will stay the same but the std. deviation will grow.\n",
    "sample1 = np.random.choice(pop1, 20, replace=True)\n",
    "sample2 = np.random.choice(pop2, 20, replace=True)\n",
    "\n",
    "print(\"Sample 1 mean: {}   std. deviation {}\".format(sample1.mean(), sample1.std()))\n",
    "print(\"Sample 2 mean: {}   std. deviation {}\".format(sample2.mean(), sample2.std()))\n",
    "\n",
    "plt.hist(sample1, alpha=.5, label='sample 1')\n",
    "plt.hist(sample2, alpha=.5, label='sample 2')\n",
    "plt.legend(loc='upper right')\n",
    "plt.show()\n",
    "\n",
    "print(\"With a higher sample size, the data appears to be normalizing, but with a smaller sample size, the histogram appears to be skewed.\")"
   ]
  },
  {
   "cell_type": "code",
   "execution_count": 44,
   "metadata": {},
   "outputs": [
    {
     "name": "stdout",
     "output_type": "stream",
     "text": [
      "Sample 1 mean: 2.25   std. deviation 1.4168627315304754\n",
      "Sample 2 mean: 4.78   std. deviation 1.493854075872205\n",
      "T value = 12.288070386446917\n",
      "Ttest_indResult(statistic=12.22647566079657, pvalue=5.8412772120373746e-26)\n"
     ]
    }
   ],
   "source": [
    "#Change the population for pop1 to .3 and compute t-statistic and p-value\n",
    "#Afterwards, change pop1 to .4 and do it again. What changes?\n",
    "pop1 = np.random.binomial(10, .3, 20)\n",
    "\n",
    "sample1 = np.random.choice(pop1, 100, replace=True)\n",
    "sample2 = np.random.choice(pop2, 100, replace=True)\n",
    "\n",
    "print(\"Sample 1 mean: {}   std. deviation {}\".format(sample1.mean(), sample1.std()))\n",
    "print(\"Sample 2 mean: {}   std. deviation {}\".format(sample2.mean(), sample2.std()))\n",
    "\n",
    "diff = sample2.mean()-sample1.mean()\n",
    "size = np.array([len(sample1), len(sample2)])\n",
    "sd = np.array([sample1.std(), sample2.std()])\n",
    "\n",
    "diff_se = (sum(sd ** 2 / size)) ** .5\n",
    "print(\"T value = {}\".format(diff/diff_se))\n",
    "print(ttest_ind(sample2, sample1, equal_var=False))"
   ]
  },
  {
   "cell_type": "code",
   "execution_count": 45,
   "metadata": {},
   "outputs": [
    {
     "ename": "SyntaxError",
     "evalue": "EOL while scanning string literal (<ipython-input-45-a2d3bf6c3e1b>, line 1)",
     "output_type": "error",
     "traceback": [
      "\u001b[1;36m  File \u001b[1;32m\"<ipython-input-45-a2d3bf6c3e1b>\"\u001b[1;36m, line \u001b[1;32m1\u001b[0m\n\u001b[1;33m    print(\"By changing pop1 to .4, I suspect that t value and p value will approach 0 because the populations are becoming similiar)\u001b[0m\n\u001b[1;37m                                                                                                                                    ^\u001b[0m\n\u001b[1;31mSyntaxError\u001b[0m\u001b[1;31m:\u001b[0m EOL while scanning string literal\n"
     ]
    }
   ],
   "source": [
    "print(\"By changing pop1 to .4, I suspect that t value and p value will approach 0 because the populations are becoming similiar)\n",
    "pop1 = np.random.binomial(10, .4, 20)\n",
    "\n",
    "sample1 = np.random.choice(pop1, 100, replace=True)\n",
    "sample2 = np.random.choice(pop2, 100, replace=True)\n",
    "\n",
    "print(ttest_ind(sample2, sample1, equal_var=False))"
   ]
  },
  {
   "cell_type": "code",
   "execution_count": 49,
   "metadata": {},
   "outputs": [
    {
     "name": "stdout",
     "output_type": "stream",
     "text": [
      "They should still accurately represent the population values\n",
      "Ttest_indResult(statistic=-6.4435623818309011, pvalue=1.0191914697522584e-09)\n",
      "Sample 1 mean: 14.64   std. deviation 6.166879275614207\n",
      "Sample 2 mean: 9.69   std. deviation 4.515960584416122\n",
      "They should still accurately represent the population values\n",
      "Ttest_indResult(statistic=0.10895837319627667, pvalue=0.91334590674157379)\n",
      "Sample 1 mean: 0.44   std. deviation 0.6529931086925803\n",
      "Sample 2 mean: 0.45   std. deviation 0.6383572667401853\n"
     ]
    }
   ],
   "source": [
    "#Change distribution of population from binomial to a different distribution of choice\n",
    "\n",
    "pop1 = np.random.negative_binomial(10, .4, 10000)\n",
    "pop2 = np.random.negative_binomial(10, .5, 10000)\n",
    "\n",
    "sample1 = np.random.choice(pop1, 100, replace=True)\n",
    "sample2 = np.random.choice(pop2, 100, replace=True)\n",
    "\n",
    "print(\"They should still accurately represent the population values\")\n",
    "print(ttest_ind(sample2, sample1, equal_var=False))\n",
    "print(\"Sample 1 mean: {}   std. deviation {}\".format(sample1.mean(), sample1.std()))\n",
    "print(\"Sample 2 mean: {}   std. deviation {}\".format(sample2.mean(), sample2.std()))\n",
    "\n",
    "pop1 = np.random.poisson(.4, 10000)\n",
    "pop2 = np.random.poisson(.5, 10000)\n",
    "\n",
    "sample1 = np.random.choice(pop1, 100, replace=True)\n",
    "sample2 = np.random.choice(pop2, 100, replace=True)\n",
    "\n",
    "print(\"They should still accurately represent the population values\")\n",
    "print(ttest_ind(sample2, sample1, equal_var=False))\n",
    "print(\"Sample 1 mean: {}   std. deviation {}\".format(sample1.mean(), sample1.std()))\n",
    "print(\"Sample 2 mean: {}   std. deviation {}\".format(sample2.mean(), sample2.std()))"
   ]
  },
  {
   "cell_type": "code",
   "execution_count": null,
   "metadata": {},
   "outputs": [],
   "source": []
  }
 ],
 "metadata": {
  "kernelspec": {
   "display_name": "Python 3",
   "language": "python",
   "name": "python3"
  },
  "language_info": {
   "codemirror_mode": {
    "name": "ipython",
    "version": 3
   },
   "file_extension": ".py",
   "mimetype": "text/x-python",
   "name": "python",
   "nbconvert_exporter": "python",
   "pygments_lexer": "ipython3",
   "version": "3.6.3"
  }
 },
 "nbformat": 4,
 "nbformat_minor": 2
}
