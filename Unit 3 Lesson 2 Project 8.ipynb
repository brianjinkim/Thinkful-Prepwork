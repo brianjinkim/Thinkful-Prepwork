{
 "cells": [
  {
   "cell_type": "code",
   "execution_count": null,
   "metadata": {},
   "outputs": [],
   "source": [
    "#If the host reveals a door and it is a dud, the chance of the door I picked having a prize behind it is less than\n",
    "#if I were to swap to the remaining door. The reasoning is that if I unknowingly pick the correct door, the probability of\n",
    "#that happening is 1/3. However, if I picked the wrong door, and the host removes 1 dud door, the probability the remaining\n",
    "#door has a prize is 2/3."
   ]
  }
 ],
 "metadata": {
  "kernelspec": {
   "display_name": "Python 3",
   "language": "python",
   "name": "python3"
  },
  "language_info": {
   "codemirror_mode": {
    "name": "ipython",
    "version": 3
   },
   "file_extension": ".py",
   "mimetype": "text/x-python",
   "name": "python",
   "nbconvert_exporter": "python",
   "pygments_lexer": "ipython3",
   "version": "3.6.3"
  }
 },
 "nbformat": 4,
 "nbformat_minor": 2
}
